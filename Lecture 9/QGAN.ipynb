{
 "cells": [
  {
   "cell_type": "markdown",
   "id": "706d0c0d-172b-4718-a93e-8ff9f6ebd94b",
   "metadata": {},
   "source": [
    "# QGAN"
   ]
  },
  {
   "cell_type": "code",
   "execution_count": 3,
   "id": "806b236f-9c3d-484b-9776-b8407ad49cf4",
   "metadata": {},
   "outputs": [],
   "source": [
    "# Library imports\n",
    "import math\n",
    "import random\n",
    "import numpy as np\n",
    "import pandas as pd\n",
    "import matplotlib.pyplot as plt\n",
    "import matplotlib.gridspec as gridspec\n",
    "import pennylane as qml\n",
    "\n",
    "# Pytorch imports\n",
    "import torch\n",
    "import torch.nn as nn\n",
    "import torch.optim as optim\n",
    "import torchvision\n",
    "import torchvision.transforms as transforms\n",
    "from torch.utils.data import Dataset, DataLoader\n",
    "\n",
    "# Set the random seed for reproducibility\n",
    "seed = 42\n",
    "torch.manual_seed(seed)\n",
    "np.random.seed(seed)\n",
    "random.seed(seed)"
   ]
  },
  {
   "cell_type": "markdown",
   "id": "773dc2a5-e936-4d2b-859f-7e79aa01ac2f",
   "metadata": {},
   "source": [
    "## Données"
   ]
  },
  {
   "cell_type": "code",
   "execution_count": 4,
   "id": "680d7a1b-2d4a-4bc6-9d45-e981dab8ab7a",
   "metadata": {},
   "outputs": [],
   "source": [
    "class DigitsDataset(Dataset):\n",
    "    \"\"\"Pytorch dataloader for the Optical Recognition of Handwritten Digits Data Set\"\"\"\n",
    "\n",
    "    def __init__(self, csv_file, label=0, transform=None):\n",
    "        \"\"\"\n",
    "        Args:\n",
    "            csv_file (string): Path to the csv file with annotations.\n",
    "            root_dir (string): Directory with all the images.\n",
    "            transform (callable, optional): Optional transform to be applied\n",
    "                on a sample.\n",
    "        \"\"\"\n",
    "        self.csv_file = csv_file\n",
    "        self.transform = transform\n",
    "        self.df = self.filter_by_label(label)\n",
    "\n",
    "    def filter_by_label(self, label):\n",
    "        # Use pandas to return a dataframe of only zeros\n",
    "        df = pd.read_csv(self.csv_file)\n",
    "        df = df.loc[df.iloc[:, -1] == label]\n",
    "        return df\n",
    "\n",
    "    def __len__(self):\n",
    "        return len(self.df)\n",
    "\n",
    "    def __getitem__(self, idx):\n",
    "        if torch.is_tensor(idx):\n",
    "            idx = idx.tolist()\n",
    "\n",
    "        image = self.df.iloc[idx, :-1] / 16\n",
    "        image = np.array(image)\n",
    "        image = image.astype(np.float32).reshape(8, 8)\n",
    "\n",
    "        if self.transform:\n",
    "            image = self.transform(image)\n",
    "\n",
    "        # Return image and label\n",
    "        return image, 0"
   ]
  },
  {
   "cell_type": "markdown",
   "id": "23746db4-a20a-498d-9285-337b7cd68048",
   "metadata": {},
   "source": [
    "Déclarons quelques variables!"
   ]
  },
  {
   "cell_type": "code",
   "execution_count": 8,
   "id": "ab2fbd4a-1569-41a4-b1b8-b16726b8ebc6",
   "metadata": {},
   "outputs": [],
   "source": [
    "image_size = 8  # Height / width of the square images\n",
    "batch_size = 1\n",
    "\n",
    "transform = transforms.Compose([transforms.ToTensor()])\n",
    "dataset = DigitsDataset(csv_file=\"_static/quantum_gans/optdigits.tra\", transform=transform)\n",
    "dataloader = torch.utils.data.DataLoader(\n",
    "    dataset, batch_size=batch_size, shuffle=True, drop_last=True\n",
    ")"
   ]
  },
  {
   "cell_type": "code",
   "execution_count": 9,
   "id": "d478860b-0e0b-4e4e-aa7f-c3d15ebdc38c",
   "metadata": {},
   "outputs": [
    {
     "data": {
      "image/png": "[encoded data removed]",
      "text/plain": [
       "<Figure size 800x200 with 8 Axes>"
      ]
     },
     "metadata": {},
     "output_type": "display_data"
    }
   ],
   "source": [
    "plt.figure(figsize=(8,2))\n",
    "\n",
    "for i in range(8):\n",
    "    image = dataset[i][0].reshape(image_size,image_size)\n",
    "    plt.subplot(1,8,i+1)\n",
    "    plt.axis('off')\n",
    "    plt.imshow(image.numpy(), cmap='gray')\n",
    "\n",
    "plt.show()"
   ]
  },
  {
   "cell_type": "markdown",
   "id": "d15d3c17-ae4a-4ae6-a19d-fae5cc4b54dd",
   "metadata": {},
   "source": [
    "## Discriminateur"
   ]
  },
  {
   "cell_type": "markdown",
   "id": "17d0fbef-a35b-4154-b7e3-13b23c7f87c4",
   "metadata": {},
   "source": [
    "On va utiliser deux couches et un neurone pour la prédiction avec une sigmoid pour avoir la probabilité que l'image est réelle (>=0.5). "
   ]
  },
  {
   "cell_type": "code",
   "execution_count": 10,
   "id": "a5dc0e4d-c383-44c3-81d0-149d0c0edf1f",
   "metadata": {},
   "outputs": [],
   "source": [
    "class Discriminator(nn.Module):\n",
    "    \"\"\"Fully connected classical discriminator\"\"\"\n",
    "\n",
    "    def __init__(self):\n",
    "        super().__init__()\n",
    "\n",
    "        self.model = nn.Sequential(\n",
    "            # Inputs to first hidden layer (num_input_features -> 64)\n",
    "            nn.Linear(image_size * image_size, 64),\n",
    "            nn.ReLU(),\n",
    "            # First hidden layer (64 -> 16)\n",
    "            nn.Linear(64, 16),\n",
    "            nn.ReLU(),\n",
    "            # Second hidden layer (16 -> output)\n",
    "            nn.Linear(16, 1),\n",
    "            nn.Sigmoid(),\n",
    "        )\n",
    "\n",
    "    def forward(self, x):\n",
    "        return self.model(x)"
   ]
  },
  {
   "cell_type": "markdown",
   "id": "b40d2793-f6d1-4604-9bdd-09750455423f",
   "metadata": {},
   "source": [
    "## Générateur"
   ]
  },
  {
   "cell_type": "markdown",
   "id": "a0cf3bfd-3763-4acd-832e-9686b61bf6dd",
   "metadata": {},
   "source": [
    "Chaque sous-générateur $G^{(j)}$ aura la même architecture comme ci dessous. Le générateur quantique global se compose de  $N_G$ sous-générateurs, chacun composé de $N$ qubits. Le processus qui va de l'entrée du vecteur latent à la sortie de l'image peut être divisé en quatre sections distinctes : le vecteur de l'espace latent, la paramétrisation, la transformation non linéaire et le post-traitement. Pour simplifier la discussion, chacune des sections suivantes se réfère à une seule itération du processus d'apprentissage."
   ]
  },
  {
   "cell_type": "markdown",
   "id": "6a8f0b28-22de-4149-b4e2-6fa03cbe8ce0",
   "metadata": {},
   "source": [
    "![qgan_generator.png](qgan_generator.jpeg)"
   ]
  },
  {
   "cell_type": "markdown",
   "id": "3a7c402c-9f47-432c-92b9-f95edb7fe073",
   "metadata": {},
   "source": [
    "## Variables pour le QGANS"
   ]
  },
  {
   "cell_type": "code",
   "execution_count": 11,
   "id": "635ca248-fa0f-4561-9e5e-85477db78e8f",
   "metadata": {},
   "outputs": [],
   "source": [
    "# Quantum variables\n",
    "n_qubits = 5  # Total number of qubits / N\n",
    "n_a_qubits = 1  # Number of ancillary qubits / N_A\n",
    "q_depth = 6  # Depth of the parameterised quantum circuit / D\n",
    "n_generators = 4  # Number of subgenerators for the patch method / N_G"
   ]
  },
  {
   "cell_type": "markdown",
   "id": "ddfd423b-6b78-4cf0-9455-663afd3490fd",
   "metadata": {},
   "source": [
    "Un peu de GPU si possible."
   ]
  },
  {
   "cell_type": "code",
   "execution_count": 12,
   "id": "34e5775a-408c-41ad-a6d0-221acd94eb91",
   "metadata": {},
   "outputs": [],
   "source": [
    "# Quantum simulator\n",
    "dev = qml.device(\"lightning.qubit\", wires=n_qubits)\n",
    "# Enable CUDA device if available\n",
    "device = torch.device(\"cuda:0\" if torch.cuda.is_available() else \"cpu\")"
   ]
  },
  {
   "cell_type": "code",
   "execution_count": 13,
   "id": "bab7ed69-fc30-43bf-a751-31aa5b26e961",
   "metadata": {},
   "outputs": [
    {
     "data": {
      "text/plain": [
       "device(type='cpu')"
      ]
     },
     "execution_count": 13,
     "metadata": {},
     "output_type": "execute_result"
    }
   ],
   "source": [
    "device"
   ]
  },
  {
   "cell_type": "markdown",
   "id": "1ba90203-ea95-4f68-bfc1-478e8bf1f73d",
   "metadata": {},
   "source": [
    "Ou pas ... "
   ]
  },
  {
   "cell_type": "markdown",
   "id": "ef137da6-43c1-4917-9456-0086820ed325",
   "metadata": {},
   "source": [
    "## Cicuit et mesure"
   ]
  },
  {
   "cell_type": "code",
   "execution_count": 14,
   "id": "e65da4c5-ff18-42c0-a25b-70c0846ba4dd",
   "metadata": {},
   "outputs": [],
   "source": [
    "@qml.qnode(dev, diff_method=\"parameter-shift\")\n",
    "def quantum_circuit(noise, weights):\n",
    "\n",
    "    weights = weights.reshape(q_depth, n_qubits)\n",
    "\n",
    "    # Initialise latent vectors\n",
    "    for i in range(n_qubits):\n",
    "        qml.RY(noise[i], wires=i)\n",
    "\n",
    "    # Repeated layer\n",
    "    for i in range(q_depth):\n",
    "        # Parameterised layer\n",
    "        for y in range(n_qubits):\n",
    "            qml.RY(weights[i][y], wires=y)\n",
    "\n",
    "        # Control Z gates\n",
    "        for y in range(n_qubits - 1):\n",
    "            qml.CZ(wires=[y, y + 1])\n",
    "\n",
    "    return qml.probs(wires=list(range(n_qubits)))\n",
    "\n",
    "\n",
    "# For further info on how the non-linear transform is implemented in Pennylane\n",
    "# https://discuss.pennylane.ai/t/ancillary-subsystem-measurement-then-trace-out/1532\n",
    "def partial_measure(noise, weights):\n",
    "    # Non-linear Transform\n",
    "    probs = quantum_circuit(noise, weights)\n",
    "    probsgiven0 = probs[: (2 ** (n_qubits - n_a_qubits))]\n",
    "    probsgiven0 /= torch.sum(probs)\n",
    "\n",
    "    # Post-Processing\n",
    "    probsgiven = probsgiven0 / torch.max(probsgiven0)\n",
    "    return probsgiven"
   ]
  },
  {
   "cell_type": "markdown",
   "id": "c1108c1b-ce6c-4142-bdd9-0a9d832f042e",
   "metadata": {},
   "source": [
    "## PatchGenerator"
   ]
  },
  {
   "cell_type": "code",
   "execution_count": 15,
   "id": "c0b948d4-0b45-41d0-91ce-b1d83c85c277",
   "metadata": {},
   "outputs": [],
   "source": [
    "class PatchQuantumGenerator(nn.Module):\n",
    "    \"\"\"Quantum generator class for the patch method\"\"\"\n",
    "\n",
    "    def __init__(self, n_generators, q_delta=1):\n",
    "        \"\"\"\n",
    "        Args:\n",
    "            n_generators (int): Number of sub-generators to be used in the patch method.\n",
    "            q_delta (float, optional): Spread of the random distribution for parameter initialisation.\n",
    "        \"\"\"\n",
    "\n",
    "        super().__init__()\n",
    "\n",
    "        self.q_params = nn.ParameterList(\n",
    "            [\n",
    "                nn.Parameter(q_delta * torch.rand(q_depth * n_qubits), requires_grad=True)\n",
    "                for _ in range(n_generators)\n",
    "            ]\n",
    "        )\n",
    "        self.n_generators = n_generators\n",
    "\n",
    "    def forward(self, x):\n",
    "        # Size of each sub-generator output\n",
    "        patch_size = 2 ** (n_qubits - n_a_qubits)\n",
    "\n",
    "        # Create a Tensor to 'catch' a batch of images from the for loop. x.size(0) is the batch size.\n",
    "        images = torch.Tensor(x.size(0), 0).to(device)\n",
    "\n",
    "        # Iterate over all sub-generators\n",
    "        for params in self.q_params:\n",
    "\n",
    "            # Create a Tensor to 'catch' a batch of the patches from a single sub-generator\n",
    "            patches = torch.Tensor(0, patch_size).to(device)\n",
    "            for elem in x:\n",
    "                q_out = partial_measure(elem, params).float().unsqueeze(0)\n",
    "                patches = torch.cat((patches, q_out))\n",
    "\n",
    "            # Each batch of patches is concatenated with each other to create a batch of images\n",
    "            images = torch.cat((images, patches), 1)\n",
    "\n",
    "        return images"
   ]
  },
  {
   "cell_type": "markdown",
   "id": "605650d9-5ab7-4c42-98b1-2cc981a04cff",
   "metadata": {},
   "source": [
    "## Training"
   ]
  },
  {
   "cell_type": "code",
   "execution_count": 16,
   "id": "c3ecbd70-a6a7-45b0-bc12-6febd3815790",
   "metadata": {},
   "outputs": [],
   "source": [
    "lrG = 0.3  # Learning rate for the generator\n",
    "lrD = 0.01  # Learning rate for the discriminator\n",
    "num_iter = 500  # Number of training iterations"
   ]
  },
  {
   "cell_type": "code",
   "execution_count": 17,
   "id": "2e7589f5-ace5-49fb-af47-4519c79298be",
   "metadata": {},
   "outputs": [
    {
     "name": "stdout",
     "output_type": "stream",
     "text": [
      "Iteration: 10, Discriminator Loss: 1.356, Generator Loss: 0.597\n",
      "Iteration: 20, Discriminator Loss: 1.325, Generator Loss: 0.621\n",
      "Iteration: 30, Discriminator Loss: 1.333, Generator Loss: 0.615\n",
      "Iteration: 40, Discriminator Loss: 1.304, Generator Loss: 0.633\n",
      "Iteration: 50, Discriminator Loss: 1.275, Generator Loss: 0.648\n",
      "Iteration: 60, Discriminator Loss: 1.222, Generator Loss: 0.670\n",
      "Iteration: 70, Discriminator Loss: 1.267, Generator Loss: 0.627\n",
      "Iteration: 80, Discriminator Loss: 1.253, Generator Loss: 0.647\n",
      "Iteration: 90, Discriminator Loss: 1.256, Generator Loss: 0.624\n",
      "Iteration: 100, Discriminator Loss: 1.249, Generator Loss: 0.627\n",
      "Iteration: 110, Discriminator Loss: 1.177, Generator Loss: 0.660\n",
      "Iteration: 120, Discriminator Loss: 1.175, Generator Loss: 0.633\n",
      "Iteration: 130, Discriminator Loss: 1.210, Generator Loss: 0.664\n",
      "Iteration: 140, Discriminator Loss: 1.231, Generator Loss: 0.605\n",
      "Iteration: 150, Discriminator Loss: 1.252, Generator Loss: 0.606\n",
      "Iteration: 160, Discriminator Loss: 1.338, Generator Loss: 0.552\n",
      "Iteration: 170, Discriminator Loss: 1.258, Generator Loss: 0.594\n",
      "Iteration: 180, Discriminator Loss: 1.235, Generator Loss: 0.611\n",
      "Iteration: 190, Discriminator Loss: 1.281, Generator Loss: 0.605\n",
      "Iteration: 200, Discriminator Loss: 1.199, Generator Loss: 0.704\n",
      "Iteration: 210, Discriminator Loss: 1.231, Generator Loss: 0.650\n",
      "Iteration: 220, Discriminator Loss: 1.291, Generator Loss: 0.681\n",
      "Iteration: 230, Discriminator Loss: 1.241, Generator Loss: 0.639\n",
      "Iteration: 240, Discriminator Loss: 1.056, Generator Loss: 0.770\n",
      "Iteration: 250, Discriminator Loss: 1.221, Generator Loss: 0.619\n",
      "Iteration: 260, Discriminator Loss: 1.216, Generator Loss: 0.627\n",
      "Iteration: 270, Discriminator Loss: 1.024, Generator Loss: 0.782\n",
      "Iteration: 280, Discriminator Loss: 1.114, Generator Loss: 0.732\n",
      "Iteration: 290, Discriminator Loss: 1.108, Generator Loss: 0.775\n",
      "Iteration: 300, Discriminator Loss: 1.146, Generator Loss: 0.740\n",
      "Iteration: 310, Discriminator Loss: 1.060, Generator Loss: 0.794\n",
      "Iteration: 320, Discriminator Loss: 1.042, Generator Loss: 0.823\n",
      "Iteration: 330, Discriminator Loss: 1.094, Generator Loss: 0.761\n",
      "Iteration: 340, Discriminator Loss: 1.027, Generator Loss: 0.767\n",
      "Iteration: 350, Discriminator Loss: 1.208, Generator Loss: 0.614\n",
      "Iteration: 360, Discriminator Loss: 1.133, Generator Loss: 0.639\n",
      "Iteration: 370, Discriminator Loss: 1.021, Generator Loss: 0.842\n",
      "Iteration: 380, Discriminator Loss: 0.998, Generator Loss: 0.927\n",
      "Iteration: 390, Discriminator Loss: 0.811, Generator Loss: 1.014\n",
      "Iteration: 400, Discriminator Loss: 1.124, Generator Loss: 0.669\n",
      "Iteration: 410, Discriminator Loss: 0.935, Generator Loss: 0.961\n",
      "Iteration: 420, Discriminator Loss: 0.918, Generator Loss: 1.003\n",
      "Iteration: 430, Discriminator Loss: 0.739, Generator Loss: 1.088\n",
      "Iteration: 440, Discriminator Loss: 0.788, Generator Loss: 1.071\n",
      "Iteration: 450, Discriminator Loss: 0.872, Generator Loss: 0.931\n",
      "Iteration: 460, Discriminator Loss: 0.796, Generator Loss: 1.047\n",
      "Iteration: 470, Discriminator Loss: 0.750, Generator Loss: 1.278\n",
      "Iteration: 480, Discriminator Loss: 1.197, Generator Loss: 0.724\n",
      "Iteration: 490, Discriminator Loss: 0.470, Generator Loss: 1.607\n",
      "Iteration: 500, Discriminator Loss: 0.723, Generator Loss: 1.129\n"
     ]
    }
   ],
   "source": [
    "discriminator = Discriminator().to(device)\n",
    "generator = PatchQuantumGenerator(n_generators).to(device)\n",
    "\n",
    "# Binary cross entropy\n",
    "criterion = nn.BCELoss()\n",
    "\n",
    "# Optimisers\n",
    "optD = optim.SGD(discriminator.parameters(), lr=lrD)\n",
    "optG = optim.SGD(generator.parameters(), lr=lrG)\n",
    "\n",
    "real_labels = torch.full((batch_size,), 1.0, dtype=torch.float, device=device)\n",
    "fake_labels = torch.full((batch_size,), 0.0, dtype=torch.float, device=device)\n",
    "\n",
    "# Fixed noise allows us to visually track the generated images throughout training\n",
    "fixed_noise = torch.rand(8, n_qubits, device=device) * math.pi / 2\n",
    "\n",
    "# Iteration counter\n",
    "counter = 0\n",
    "\n",
    "# Collect images for plotting later\n",
    "results = []\n",
    "\n",
    "while True:\n",
    "    for i, (data, _) in enumerate(dataloader):\n",
    "\n",
    "        # Data for training the discriminator\n",
    "        data = data.reshape(-1, image_size * image_size)\n",
    "        real_data = data.to(device)\n",
    "\n",
    "        # Noise follwing a uniform distribution in range [0,pi/2)\n",
    "        noise = torch.rand(batch_size, n_qubits, device=device) * math.pi / 2\n",
    "        fake_data = generator(noise)\n",
    "\n",
    "        # Training the discriminator\n",
    "        discriminator.zero_grad()\n",
    "        outD_real = discriminator(real_data).view(-1)\n",
    "        outD_fake = discriminator(fake_data.detach()).view(-1)\n",
    "\n",
    "        errD_real = criterion(outD_real, real_labels)\n",
    "        errD_fake = criterion(outD_fake, fake_labels)\n",
    "        # Propagate gradients\n",
    "        errD_real.backward()\n",
    "        errD_fake.backward()\n",
    "\n",
    "        errD = errD_real + errD_fake\n",
    "        optD.step()\n",
    "\n",
    "        # Training the generator\n",
    "        generator.zero_grad()\n",
    "        outD_fake = discriminator(fake_data).view(-1)\n",
    "        errG = criterion(outD_fake, real_labels)\n",
    "        errG.backward()\n",
    "        optG.step()\n",
    "\n",
    "        counter += 1\n",
    "\n",
    "        # Show loss values\n",
    "        if counter % 10 == 0:\n",
    "            print(f'Iteration: {counter}, Discriminator Loss: {errD:0.3f}, Generator Loss: {errG:0.3f}')\n",
    "            test_images = generator(fixed_noise).view(8,1,image_size,image_size).cpu().detach()\n",
    "\n",
    "            # Save images every 50 iterations\n",
    "            if counter % 50 == 0:\n",
    "                results.append(test_images)\n",
    "\n",
    "        if counter == num_iter:\n",
    "            break\n",
    "    if counter == num_iter:\n",
    "        break"
   ]
  },
  {
   "cell_type": "markdown",
   "id": "e8588d5b-fe25-4467-975e-73cef7f26ee0",
   "metadata": {},
   "source": [
    "## Visualisation"
   ]
  },
  {
   "cell_type": "code",
   "execution_count": 18,
   "id": "a10dd476-6d11-404b-96b1-1ce878313269",
   "metadata": {},
   "outputs": [
    {
     "data": {
      "image/png": "[encoded data removed]",
      "text/plain": [
       "<Figure size 1000x500 with 80 Axes>"
      ]
     },
     "metadata": {},
     "output_type": "display_data"
    }
   ],
   "source": [
    "fig = plt.figure(figsize=(10, 5))\n",
    "outer = gridspec.GridSpec(5, 2, wspace=0.1)\n",
    "\n",
    "for i, images in enumerate(results):\n",
    "    inner = gridspec.GridSpecFromSubplotSpec(1, images.size(0),\n",
    "                    subplot_spec=outer[i])\n",
    "\n",
    "    images = torch.squeeze(images, dim=1)\n",
    "    for j, im in enumerate(images):\n",
    "\n",
    "        ax = plt.Subplot(fig, inner[j])\n",
    "        ax.imshow(im.numpy(), cmap=\"gray\")\n",
    "        ax.set_xticks([])\n",
    "        ax.set_yticks([])\n",
    "        if j==0:\n",
    "            ax.set_title(f'Iteration {50+i*50}', loc='left')\n",
    "        fig.add_subplot(ax)\n",
    "\n",
    "plt.show()"
   ]
  },
  {
   "cell_type": "markdown",
   "id": "6a9e0490-511f-43ee-b345-ad4e8117e363",
   "metadata": {},
   "source": [
    "## Source"
   ]
  },
  {
   "cell_type": "markdown",
   "id": "76178145-595a-4872-be0c-bbd9ee88c7ce",
   "metadata": {},
   "source": [
    "- [Demo Pennylane QGAN](https://pennylane.ai/qml/demos/tutorial_quantum_gans/)"
   ]
  },
  {
   "cell_type": "code",
   "execution_count": null,
   "id": "d6e9cb19-e33d-4e6a-9b90-d266163e0afb",
   "metadata": {},
   "outputs": [],
   "source": []
  }
 ],
 "metadata": {
  "kernelspec": {
   "display_name": "Python 3 (ipykernel)",
   "language": "python",
   "name": "python3"
  },
  "language_info": {
   "codemirror_mode": {
    "name": "ipython",
    "version": 3
   },
   "file_extension": ".py",
   "mimetype": "text/x-python",
   "name": "python",
   "nbconvert_exporter": "python",
   "pygments_lexer": "ipython3",
   "version": "3.9.6"
  }
 },
 "nbformat": 4,
 "nbformat_minor": 5
}
