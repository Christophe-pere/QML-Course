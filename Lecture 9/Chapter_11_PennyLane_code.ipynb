{
 "cells": [
  {
   "cell_type": "markdown",
   "id": "398a1114",
   "metadata": {},
   "source": [
    "# CHAPTER 11 - The Best of Both Worlds: Hybrid Architectures - PennyLane Code"
   ]
  },
  {
   "cell_type": "markdown",
   "id": "d60f20a9",
   "metadata": {},
   "source": [
    "*Note*: You may skip the following five cells if you have alredy installed the right versions of all the libraries mentioned in *Appendix D*. This will likely NOT be the case if you are running this notebook on a cloud service such as Google Colab."
   ]
  },
  {
   "cell_type": "code",
   "execution_count": null,
   "id": "c31af5f7",
   "metadata": {},
   "outputs": [],
   "source": [
    "pip install scikit-learn==1.2.1"
   ]
  },
  {
   "cell_type": "code",
   "execution_count": null,
   "id": "8b8485db",
   "metadata": {},
   "outputs": [],
   "source": [
    "pip install tensorflow==2.9.1"
   ]
  },
  {
   "cell_type": "code",
   "execution_count": null,
   "id": "2e9d0203",
   "metadata": {},
   "outputs": [],
   "source": [
    "pip install pennylane==0.26"
   ]
  },
  {
   "cell_type": "code",
   "execution_count": null,
   "id": "57efa022",
   "metadata": {},
   "outputs": [],
   "source": [
    "pip install matplotlib==3.2.2"
   ]
  },
  {
   "cell_type": "code",
   "execution_count": null,
   "id": "990bdfe3",
   "metadata": {},
   "outputs": [],
   "source": [
    "pip install optuna==3.0.3"
   ]
  },
  {
   "cell_type": "code",
   "execution_count": 1,
   "id": "f228afe6",
   "metadata": {},
   "outputs": [],
   "source": [
    "import numpy as np\n",
    "import tensorflow as tf\n",
    "\n",
    "seed = 1234\n",
    "np.random.seed(seed)\n",
    "tf.random.set_seed(seed)"
   ]
  },
  {
   "cell_type": "code",
   "execution_count": 2,
   "id": "4f1a344e",
   "metadata": {},
   "outputs": [],
   "source": [
    "from sklearn.metrics import accuracy_score\n",
    "from sklearn.model_selection import train_test_split"
   ]
  },
  {
   "cell_type": "code",
   "execution_count": 3,
   "id": "4fd3e5fd",
   "metadata": {},
   "outputs": [],
   "source": [
    "from sklearn.datasets import make_classification"
   ]
  },
  {
   "cell_type": "code",
   "execution_count": 4,
   "id": "0bf7c720",
   "metadata": {},
   "outputs": [],
   "source": [
    "tf.keras.backend.set_floatx('float64')"
   ]
  },
  {
   "cell_type": "code",
   "execution_count": 5,
   "id": "eb0c7e4f",
   "metadata": {},
   "outputs": [],
   "source": [
    "import pennylane as qml\n",
    "\n",
    "state_0 = [[1], [0]]\n",
    "M = state_0 * np.conj(state_0).T"
   ]
  },
  {
   "cell_type": "code",
   "execution_count": 6,
   "id": "7f0b4a31",
   "metadata": {},
   "outputs": [],
   "source": [
    "import matplotlib.pyplot as plt\n",
    "\n",
    "def plot_losses(history):\n",
    "    tr_loss = history.history[\"loss\"]\n",
    "    val_loss = history.history[\"val_loss\"]\n",
    "    epochs = np.array(range(len(tr_loss))) + 1\n",
    "    plt.plot(epochs, tr_loss, label = \"Training loss\")\n",
    "    plt.plot(epochs, val_loss, label = \"Validation loss\")\n",
    "    plt.xlabel(\"Epoch\")\n",
    "    plt.legend()\n",
    "    plt.show()"
   ]
  },
  {
   "cell_type": "code",
   "execution_count": 7,
   "id": "73e7edd4",
   "metadata": {},
   "outputs": [],
   "source": [
    "x, y = make_classification(n_samples = 1000, n_features = 20)"
   ]
  },
  {
   "cell_type": "code",
   "execution_count": 8,
   "id": "00cdb43e",
   "metadata": {},
   "outputs": [],
   "source": [
    "x_tr, x_test, y_tr, y_test = train_test_split(\n",
    "    x, y, train_size = 0.8)\n",
    "x_val, x_test, y_val, y_test = train_test_split(\n",
    "    x_test, y_test, train_size = 0.5)"
   ]
  },
  {
   "cell_type": "code",
   "execution_count": 15,
   "id": "997e4e6a",
   "metadata": {},
   "outputs": [],
   "source": [
    "def TwoLocal(nqubits, theta, reps = 1):\n",
    "    \n",
    "    for r in range(reps):\n",
    "        for i in range(nqubits):\n",
    "            qml.RY(theta[r * nqubits + i], wires = i)\n",
    "        for i in range(nqubits - 1):\n",
    "            qml.CNOT(wires = [i, i + 1])\n",
    "    \n",
    "    for i in range(nqubits):\n",
    "        qml.RY(theta[reps * nqubits + i], wires = i)"
   ]
  },
  {
   "cell_type": "code",
   "execution_count": 14,
   "id": "9bd1bc97",
   "metadata": {},
   "outputs": [],
   "source": [
    "nqubits = 4\n",
    "dev = qml.device(\"lightning.qubit\", wires = nqubits)\n",
    "\n",
    "@qml.qnode(dev, interface=\"tf\", diff_method = \"adjoint\")\n",
    "def qnn(inputs, theta):\n",
    "    qml.AngleEmbedding(inputs, range(nqubits))\n",
    "    TwoLocal(nqubits, theta, reps = 2)\n",
    "    return qml.expval(qml.Hermitian(M, wires = [0]))\n",
    "\n",
    "weights = {\"theta\": 12}"
   ]
  },
  {
   "cell_type": "code",
   "execution_count": 11,
   "id": "502049d2",
   "metadata": {},
   "outputs": [],
   "source": [
    "model = tf.keras.models.Sequential([\n",
    "    tf.keras.layers.Input(20),\n",
    "    tf.keras.layers.Dense(4, activation = \"sigmoid\"),\n",
    "    qml.qnn.KerasLayer(qnn, weights, output_dim=1)\n",
    "])"
   ]
  },
  {
   "cell_type": "code",
   "execution_count": 12,
   "id": "d20fc1bd",
   "metadata": {},
   "outputs": [],
   "source": [
    "qlayer = qml.qnn.KerasLayer(qnn, weights, output_dim=1)\n",
    "model = tf.keras.models.Sequential([\n",
    "    tf.keras.layers.Input(20),\n",
    "    tf.keras.layers.Dense(4, activation = \"sigmoid\"),\n",
    "    qlayer\n",
    "])"
   ]
  },
  {
   "cell_type": "code",
   "execution_count": 17,
   "id": "667c81f0",
   "metadata": {},
   "outputs": [],
   "source": [
    "earlystop = tf.keras.callbacks.EarlyStopping(\n",
    "    monitor=\"val_loss\", patience=2, verbose=1,\n",
    "    restore_best_weights=True)"
   ]
  },
  {
   "cell_type": "code",
   "execution_count": 14,
   "id": "5b80088a",
   "metadata": {},
   "outputs": [
    {
     "name": "stderr",
     "output_type": "stream",
     "text": [
      "WARNING:absl:At this time, the v2.11+ optimizer `tf.keras.optimizers.Adam` runs slowly on M1/M2 Macs, please use the legacy Keras optimizer instead, located at `tf.keras.optimizers.legacy.Adam`.\n"
     ]
    },
    {
     "name": "stdout",
     "output_type": "stream",
     "text": [
      "Epoch 1/50\n",
      "80/80 [==============================] - 4s 55ms/step - loss: 0.8672 - val_loss: 0.7325\n",
      "Epoch 2/50\n",
      "80/80 [==============================] - 4s 55ms/step - loss: 0.6798 - val_loss: 0.6465\n",
      "Epoch 3/50\n",
      "80/80 [==============================] - 4s 55ms/step - loss: 0.6307 - val_loss: 0.6034\n",
      "Epoch 4/50\n",
      "80/80 [==============================] - 5s 57ms/step - loss: 0.5887 - val_loss: 0.5607\n",
      "Epoch 5/50\n",
      "80/80 [==============================] - 4s 55ms/step - loss: 0.5502 - val_loss: 0.5275\n",
      "Epoch 6/50\n",
      "80/80 [==============================] - 4s 55ms/step - loss: 0.5189 - val_loss: 0.5013\n",
      "Epoch 7/50\n",
      "80/80 [==============================] - 5s 58ms/step - loss: 0.4894 - val_loss: 0.4795\n",
      "Epoch 8/50\n",
      "80/80 [==============================] - 4s 56ms/step - loss: 0.4642 - val_loss: 0.4612\n",
      "Epoch 9/50\n",
      "80/80 [==============================] - 4s 55ms/step - loss: 0.4462 - val_loss: 0.4497\n",
      "Epoch 10/50\n",
      "80/80 [==============================] - 5s 56ms/step - loss: 0.4334 - val_loss: 0.4418\n",
      "Epoch 11/50\n",
      "80/80 [==============================] - 5s 57ms/step - loss: 0.4252 - val_loss: 0.4367\n",
      "Epoch 12/50\n",
      "80/80 [==============================] - 4s 56ms/step - loss: 0.4202 - val_loss: 0.4334\n",
      "Epoch 13/50\n",
      "80/80 [==============================] - 4s 55ms/step - loss: 0.4161 - val_loss: 0.4311\n",
      "Epoch 14/50\n",
      "80/80 [==============================] - 5s 57ms/step - loss: 0.4135 - val_loss: 0.4291\n",
      "Epoch 15/50\n",
      "80/80 [==============================] - 4s 55ms/step - loss: 0.4109 - val_loss: 0.4282\n",
      "Epoch 16/50\n",
      "80/80 [==============================] - 4s 56ms/step - loss: 0.4092 - val_loss: 0.4271\n",
      "Epoch 17/50\n",
      "80/80 [==============================] - 4s 55ms/step - loss: 0.4083 - val_loss: 0.4272\n",
      "Epoch 18/50\n",
      "80/80 [==============================] - 5s 57ms/step - loss: 0.4061 - val_loss: 0.4262\n",
      "Epoch 19/50\n",
      "80/80 [==============================] - 4s 55ms/step - loss: 0.4050 - val_loss: 0.4251\n",
      "Epoch 20/50\n",
      "80/80 [==============================] - 4s 56ms/step - loss: 0.4040 - val_loss: 0.4249\n",
      "Epoch 21/50\n",
      "80/80 [==============================] - 5s 57ms/step - loss: 0.4030 - val_loss: 0.4241\n",
      "Epoch 22/50\n",
      "80/80 [==============================] - 4s 55ms/step - loss: 0.4022 - val_loss: 0.4242\n",
      "Epoch 23/50\n",
      "80/80 [==============================] - 4s 56ms/step - loss: 0.4016 - val_loss: 0.4238\n",
      "Epoch 24/50\n",
      "80/80 [==============================] - 4s 55ms/step - loss: 0.4002 - val_loss: 0.4231\n",
      "Epoch 25/50\n",
      "80/80 [==============================] - 4s 55ms/step - loss: 0.3995 - val_loss: 0.4223\n",
      "Epoch 26/50\n",
      "80/80 [==============================] - 4s 56ms/step - loss: 0.3983 - val_loss: 0.4215\n",
      "Epoch 27/50\n",
      "80/80 [==============================] - 4s 55ms/step - loss: 0.3976 - val_loss: 0.4220\n",
      "Epoch 28/50\n",
      "80/80 [==============================] - 5s 57ms/step - loss: 0.3968 - val_loss: 0.4214\n",
      "Epoch 29/50\n",
      "80/80 [==============================] - 4s 55ms/step - loss: 0.3964 - val_loss: 0.4205\n",
      "Epoch 30/50\n",
      "80/80 [==============================] - 4s 56ms/step - loss: 0.3954 - val_loss: 0.4201\n",
      "Epoch 31/50\n",
      "80/80 [==============================] - 4s 56ms/step - loss: 0.3949 - val_loss: 0.4198\n",
      "Epoch 32/50\n",
      "80/80 [==============================] - 5s 57ms/step - loss: 0.3942 - val_loss: 0.4196\n",
      "Epoch 33/50\n",
      "80/80 [==============================] - 4s 56ms/step - loss: 0.3937 - val_loss: 0.4197\n",
      "Epoch 34/50\n",
      "80/80 [==============================] - 4s 56ms/step - loss: 0.3941 - val_loss: 0.4192\n",
      "Epoch 35/50\n",
      "80/80 [==============================] - 4s 55ms/step - loss: 0.3927 - val_loss: 0.4193\n",
      "Epoch 36/50\n",
      "80/80 [==============================] - ETA: 0s - loss: 0.3924Restoring model weights from the end of the best epoch: 34.\n",
      "80/80 [==============================] - 5s 57ms/step - loss: 0.3924 - val_loss: 0.4196\n",
      "Epoch 36: early stopping\n"
     ]
    }
   ],
   "source": [
    "opt = tf.keras.optimizers.Adam(learning_rate = 0.005)\n",
    "model.compile(opt, loss=tf.keras.losses.BinaryCrossentropy())\n",
    "\n",
    "history = model.fit(x_tr, y_tr, epochs = 50, shuffle = True,\n",
    "    validation_data = (x_val, y_val),\n",
    "    batch_size = 10,\n",
    "    callbacks = [earlystop])"
   ]
  },
  {
   "cell_type": "code",
   "execution_count": 15,
   "id": "dd9e17d3",
   "metadata": {},
   "outputs": [
    {
     "data": {
      "image/png": "[encoded data removed]",
      "text/plain": [
       "<Figure size 640x480 with 1 Axes>"
      ]
     },
     "metadata": {},
     "output_type": "display_data"
    }
   ],
   "source": [
    "plot_losses(history)"
   ]
  },
  {
   "cell_type": "code",
   "execution_count": 16,
   "id": "13d5bc6d",
   "metadata": {},
   "outputs": [
    {
     "name": "stdout",
     "output_type": "stream",
     "text": [
      "25/25 [==============================] - 1s 47ms/step\n",
      "4/4 [==============================] - 0s 35ms/step\n",
      "4/4 [==============================] - 0s 34ms/step\n",
      "Train accuracy: 0.94625\n",
      "Validation accuracy: 0.91\n",
      "Test accuracy: 0.96\n"
     ]
    }
   ],
   "source": [
    "tr_acc = accuracy_score(model.predict(x_tr) >= 0.5, y_tr)\n",
    "val_acc = accuracy_score(model.predict(x_val) >= 0.5, y_val)\n",
    "test_acc = accuracy_score(model.predict(x_test) >= 0.5, y_test)\n",
    "print(\"Train accuracy:\", tr_acc)\n",
    "print(\"Validation accuracy:\", val_acc)\n",
    "print(\"Test accuracy:\", test_acc)"
   ]
  },
  {
   "cell_type": "code",
   "execution_count": 19,
   "id": "e14b734c-757c-4ca7-bb95-2878b8f0fd04",
   "metadata": {},
   "outputs": [],
   "source": [
    "#!pip3 install optuna"
   ]
  },
  {
   "cell_type": "code",
   "execution_count": 10,
   "id": "6befe3a1",
   "metadata": {},
   "outputs": [],
   "source": [
    "import optuna"
   ]
  },
  {
   "cell_type": "code",
   "execution_count": 11,
   "id": "0fe0a048",
   "metadata": {},
   "outputs": [],
   "source": [
    "def objective(trial):\n",
    "    # Define the learning rate as an optimizable parameter.\n",
    "    lrate = trial.suggest_float(\"learning_rate\", 0.001, 0.1)\n",
    "\n",
    "    # Define the optimizer with the learning rate.\n",
    "    opt = tf.keras.optimizers.Adam(learning_rate = lrate)\n",
    "\n",
    "    # Prepare and compile the model.\n",
    "    model = tf.keras.models.Sequential([\n",
    "        tf.keras.layers.Input(20),\n",
    "        tf.keras.layers.Dense(4, activation = \"sigmoid\"),\n",
    "        qml.qnn.KerasLayer(qnn, weights, output_dim=1)\n",
    "    ])\n",
    "    model.compile(opt, loss=tf.keras.losses.BinaryCrossentropy())\n",
    "\n",
    "    # Train it!\n",
    "    history = model.fit(x_tr, y_tr, epochs = 50, shuffle = True,\n",
    "        validation_data = (x_val, y_val),\n",
    "        batch_size = 10,\n",
    "        callbacks = [earlystop],\n",
    "        verbose = 0 # We want TensorFlow to be quiet.\n",
    "    )\n",
    "    \n",
    "    # Return the validation accuracy.\n",
    "    return accuracy_score(model.predict(x_val) >= 0.5, y_val)"
   ]
  },
  {
   "cell_type": "code",
   "execution_count": 12,
   "id": "e97bdba6",
   "metadata": {},
   "outputs": [
    {
     "name": "stderr",
     "output_type": "stream",
     "text": [
      "[I 2024-03-12 21:25:13,191] A new study created in memory with name: no-name-d57a2d68-dad9-4ad8-928f-c380080af0a0\n"
     ]
    }
   ],
   "source": [
    "from optuna.samplers import TPESampler\n",
    "\n",
    "study = optuna.create_study(direction='maximize',\n",
    "    sampler=TPESampler(seed = seed))"
   ]
  },
  {
   "cell_type": "code",
   "execution_count": 18,
   "id": "e5552e6c",
   "metadata": {},
   "outputs": [
    {
     "name": "stderr",
     "output_type": "stream",
     "text": [
      "WARNING:absl:At this time, the v2.11+ optimizer `tf.keras.optimizers.Adam` runs slowly on M1/M2 Macs, please use the legacy Keras optimizer instead, located at `tf.keras.optimizers.legacy.Adam`.\n"
     ]
    },
    {
     "name": "stdout",
     "output_type": "stream",
     "text": [
      "Restoring model weights from the end of the best epoch: 8.\n",
      "Epoch 10: early stopping\n",
      "4/4 [==============================] - 0s 35ms/step\n"
     ]
    },
    {
     "name": "stderr",
     "output_type": "stream",
     "text": [
      "[I 2024-03-12 21:26:36,960] Trial 2 finished with value: 0.9 and parameters: {'learning_rate': 0.04433504616170433}. Best is trial 2 with value: 0.9.\n",
      "WARNING:absl:At this time, the v2.11+ optimizer `tf.keras.optimizers.Adam` runs slowly on M1/M2 Macs, please use the legacy Keras optimizer instead, located at `tf.keras.optimizers.legacy.Adam`.\n"
     ]
    },
    {
     "name": "stdout",
     "output_type": "stream",
     "text": [
      "Restoring model weights from the end of the best epoch: 4.\n",
      "Epoch 6: early stopping\n",
      "4/4 [==============================] - 0s 37ms/step\n"
     ]
    },
    {
     "name": "stderr",
     "output_type": "stream",
     "text": [
      "[I 2024-03-12 21:27:02,331] Trial 3 finished with value: 0.91 and parameters: {'learning_rate': 0.07875049978766316}. Best is trial 3 with value: 0.91.\n",
      "WARNING:absl:At this time, the v2.11+ optimizer `tf.keras.optimizers.Adam` runs slowly on M1/M2 Macs, please use the legacy Keras optimizer instead, located at `tf.keras.optimizers.legacy.Adam`.\n"
     ]
    },
    {
     "name": "stdout",
     "output_type": "stream",
     "text": [
      "Restoring model weights from the end of the best epoch: 6.\n",
      "Epoch 8: early stopping\n",
      "4/4 [==============================] - 0s 34ms/step\n"
     ]
    },
    {
     "name": "stderr",
     "output_type": "stream",
     "text": [
      "[I 2024-03-12 21:27:35,587] Trial 4 finished with value: 0.91 and parameters: {'learning_rate': 0.07821760500376156}. Best is trial 3 with value: 0.91.\n",
      "WARNING:absl:At this time, the v2.11+ optimizer `tf.keras.optimizers.Adam` runs slowly on M1/M2 Macs, please use the legacy Keras optimizer instead, located at `tf.keras.optimizers.legacy.Adam`.\n"
     ]
    },
    {
     "name": "stdout",
     "output_type": "stream",
     "text": [
      "Restoring model weights from the end of the best epoch: 8.\n",
      "Epoch 10: early stopping\n",
      "4/4 [==============================] - 0s 35ms/step\n"
     ]
    },
    {
     "name": "stderr",
     "output_type": "stream",
     "text": [
      "[I 2024-03-12 21:28:16,343] Trial 5 finished with value: 0.9 and parameters: {'learning_rate': 0.02798666792298152}. Best is trial 3 with value: 0.91.\n",
      "WARNING:absl:At this time, the v2.11+ optimizer `tf.keras.optimizers.Adam` runs slowly on M1/M2 Macs, please use the legacy Keras optimizer instead, located at `tf.keras.optimizers.legacy.Adam`.\n"
     ]
    },
    {
     "name": "stdout",
     "output_type": "stream",
     "text": [
      "Restoring model weights from the end of the best epoch: 4.\n",
      "Epoch 6: early stopping\n",
      "4/4 [==============================] - 0s 35ms/step\n"
     ]
    },
    {
     "name": "stderr",
     "output_type": "stream",
     "text": [
      "[I 2024-03-12 21:28:41,137] Trial 6 finished with value: 0.89 and parameters: {'learning_rate': 0.028369961259166576}. Best is trial 3 with value: 0.91.\n",
      "WARNING:absl:At this time, the v2.11+ optimizer `tf.keras.optimizers.Adam` runs slowly on M1/M2 Macs, please use the legacy Keras optimizer instead, located at `tf.keras.optimizers.legacy.Adam`.\n"
     ]
    },
    {
     "name": "stdout",
     "output_type": "stream",
     "text": [
      "Restoring model weights from the end of the best epoch: 11.\n",
      "Epoch 13: early stopping\n",
      "4/4 [==============================] - 0s 34ms/step\n"
     ]
    },
    {
     "name": "stderr",
     "output_type": "stream",
     "text": [
      "[I 2024-03-12 21:29:34,523] Trial 7 finished with value: 0.91 and parameters: {'learning_rate': 0.08038534557596691}. Best is trial 3 with value: 0.91.\n"
     ]
    }
   ],
   "source": [
    "study.optimize(objective, n_trials=6)"
   ]
  },
  {
   "cell_type": "code",
   "execution_count": 25,
   "id": "d5f59f2b",
   "metadata": {},
   "outputs": [],
   "source": [
    "np.random.seed(seed)\n",
    "tf.random.set_seed(seed)"
   ]
  },
  {
   "cell_type": "code",
   "execution_count": 26,
   "id": "699fe339",
   "metadata": {},
   "outputs": [],
   "source": [
    "x, y = make_classification(n_samples = 1000, n_features = 20,\n",
    "    n_classes = 3, n_clusters_per_class = 1)"
   ]
  },
  {
   "cell_type": "code",
   "execution_count": 27,
   "id": "ce591ea2",
   "metadata": {},
   "outputs": [],
   "source": [
    "from sklearn.preprocessing import OneHotEncoder\n",
    "hot = OneHotEncoder()\n",
    "y_hot = hot.fit_transform(y.reshape(-1,1))"
   ]
  },
  {
   "cell_type": "code",
   "execution_count": 28,
   "id": "6a00081f",
   "metadata": {},
   "outputs": [],
   "source": [
    "x_tr, x_test, y_tr, y_test = train_test_split(\n",
    "    x, y_hot, train_size = 0.8)\n",
    "x_val, x_test, y_val, y_test = train_test_split(\n",
    "    x_test, y_test, train_size = 0.5)"
   ]
  },
  {
   "cell_type": "code",
   "execution_count": 29,
   "id": "220ec837",
   "metadata": {},
   "outputs": [],
   "source": [
    "nqubits = 4\n",
    "dev = qml.device(\"lightning.qubit\", wires = nqubits)\n",
    "\n",
    "@qml.qnode(dev, interface=\"tf\", diff_method = \"adjoint\")\n",
    "def qnn(inputs, theta):\n",
    "    qml.AngleEmbedding(inputs, range(nqubits))\n",
    "    TwoLocal(nqubits, theta, reps = 2)\n",
    "    return [qml.expval(qml.Hermitian(M, wires = [0])),\n",
    "            qml.expval(qml.Hermitian(M, wires = [1])),\n",
    "            qml.expval(qml.Hermitian(M, wires = [2]))]\n",
    "\n",
    "weights = {\"theta\": 12}"
   ]
  },
  {
   "cell_type": "code",
   "execution_count": 31,
   "id": "eb3f328c",
   "metadata": {},
   "outputs": [],
   "source": [
    "model = tf.keras.models.Sequential([\n",
    "    tf.keras.layers.Input(20),\n",
    "    tf.keras.layers.Dense(8, activation = \"elu\"),\n",
    "    tf.keras.layers.Dense(4, activation = \"sigmoid\"),\n",
    "    qml.qnn.KerasLayer(qnn, weights, output_dim = 3),\n",
    "    tf.keras.layers.Activation(activation = \"softmax\")\n",
    "])"
   ]
  },
  {
   "cell_type": "code",
   "execution_count": 33,
   "id": "2b987312",
   "metadata": {},
   "outputs": [
    {
     "name": "stderr",
     "output_type": "stream",
     "text": [
      "WARNING:absl:At this time, the v2.11+ optimizer `tf.keras.optimizers.Adam` runs slowly on M1/M2 Macs, please use the legacy Keras optimizer instead, located at `tf.keras.optimizers.legacy.Adam`.\n"
     ]
    },
    {
     "name": "stdout",
     "output_type": "stream",
     "text": [
      "Epoch 1/50\n"
     ]
    },
    {
     "ename": "ValueError",
     "evalue": "Attempt to convert a value (SparseTensor(indices=tf.Tensor(\n[[0 1]\n [1 2]\n [2 1]\n [3 1]\n [4 2]\n [5 2]\n [6 2]\n [7 0]\n [8 0]\n [9 0]], shape=(10, 2), dtype=int64), values=tf.Tensor([1. 1. 1. 1. 1. 1. 1. 1. 1. 1.], shape=(10,), dtype=float64), dense_shape=tf.Tensor([10  3], shape=(2,), dtype=int64))) with an unsupported type (<class 'tensorflow.python.framework.sparse_tensor.SparseTensor'>) to a Tensor.",
     "output_type": "error",
     "traceback": [
      "\u001b[0;31m---------------------------------------------------------------------------\u001b[0m",
      "\u001b[0;31mValueError\u001b[0m                                Traceback (most recent call last)",
      "Cell \u001b[0;32mIn[33], line 7\u001b[0m\n\u001b[1;32m      2\u001b[0m model\u001b[38;5;241m.\u001b[39mcompile(opt, loss\u001b[38;5;241m=\u001b[39mtf\u001b[38;5;241m.\u001b[39mkeras\u001b[38;5;241m.\u001b[39mlosses\u001b[38;5;241m.\u001b[39mCategoricalCrossentropy())\n\u001b[1;32m      4\u001b[0m \u001b[38;5;66;03m#y_test = tf.cast(y_tr[1:], tf.int32)\u001b[39;00m\n\u001b[1;32m      5\u001b[0m \u001b[38;5;66;03m#y_valid = tf.cast(y_val[1:], tf.int32)\u001b[39;00m\n\u001b[0;32m----> 7\u001b[0m history \u001b[38;5;241m=\u001b[39m \u001b[43mmodel\u001b[49m\u001b[38;5;241;43m.\u001b[39;49m\u001b[43mfit\u001b[49m\u001b[43m(\u001b[49m\u001b[43mx_tr\u001b[49m\u001b[43m,\u001b[49m\u001b[43m \u001b[49m\u001b[43my_tr\u001b[49m\u001b[43m,\u001b[49m\u001b[43m \u001b[49m\u001b[43mepochs\u001b[49m\u001b[43m \u001b[49m\u001b[38;5;241;43m=\u001b[39;49m\u001b[43m \u001b[49m\u001b[38;5;241;43m50\u001b[39;49m\u001b[43m,\u001b[49m\u001b[43m \u001b[49m\u001b[43mshuffle\u001b[49m\u001b[43m \u001b[49m\u001b[38;5;241;43m=\u001b[39;49m\u001b[43m \u001b[49m\u001b[38;5;28;43;01mTrue\u001b[39;49;00m\u001b[43m,\u001b[49m\n\u001b[1;32m      8\u001b[0m \u001b[43m    \u001b[49m\u001b[43mvalidation_data\u001b[49m\u001b[43m \u001b[49m\u001b[38;5;241;43m=\u001b[39;49m\u001b[43m \u001b[49m\u001b[43m(\u001b[49m\u001b[43mx_val\u001b[49m\u001b[43m,\u001b[49m\u001b[43m \u001b[49m\u001b[43my_val\u001b[49m\u001b[43m)\u001b[49m\u001b[43m,\u001b[49m\n\u001b[1;32m      9\u001b[0m \u001b[43m    \u001b[49m\u001b[43mbatch_size\u001b[49m\u001b[43m \u001b[49m\u001b[38;5;241;43m=\u001b[39;49m\u001b[43m \u001b[49m\u001b[38;5;241;43m10\u001b[39;49m\u001b[43m,\u001b[49m\n\u001b[1;32m     10\u001b[0m \u001b[43m    \u001b[49m\u001b[43mcallbacks\u001b[49m\u001b[43m \u001b[49m\u001b[38;5;241;43m=\u001b[39;49m\u001b[43m \u001b[49m\u001b[43m[\u001b[49m\u001b[43mearlystop\u001b[49m\u001b[43m]\u001b[49m\u001b[43m)\u001b[49m\n",
      "File \u001b[0;32m~/PinQ2_py/lib/python3.9/site-packages/keras/src/utils/traceback_utils.py:70\u001b[0m, in \u001b[0;36mfilter_traceback.<locals>.error_handler\u001b[0;34m(*args, **kwargs)\u001b[0m\n\u001b[1;32m     67\u001b[0m     filtered_tb \u001b[38;5;241m=\u001b[39m _process_traceback_frames(e\u001b[38;5;241m.\u001b[39m__traceback__)\n\u001b[1;32m     68\u001b[0m     \u001b[38;5;66;03m# To get the full stack trace, call:\u001b[39;00m\n\u001b[1;32m     69\u001b[0m     \u001b[38;5;66;03m# `tf.debugging.disable_traceback_filtering()`\u001b[39;00m\n\u001b[0;32m---> 70\u001b[0m     \u001b[38;5;28;01mraise\u001b[39;00m e\u001b[38;5;241m.\u001b[39mwith_traceback(filtered_tb) \u001b[38;5;28;01mfrom\u001b[39;00m \u001b[38;5;28mNone\u001b[39m\n\u001b[1;32m     71\u001b[0m \u001b[38;5;28;01mfinally\u001b[39;00m:\n\u001b[1;32m     72\u001b[0m     \u001b[38;5;28;01mdel\u001b[39;00m filtered_tb\n",
      "File \u001b[0;32m~/PinQ2_py/lib/python3.9/site-packages/keras/src/backend.py:5571\u001b[0m, in \u001b[0;36mcategorical_crossentropy\u001b[0;34m(target, output, from_logits, axis)\u001b[0m\n\u001b[1;32m   5525\u001b[0m \u001b[38;5;129m@keras_export\u001b[39m(\u001b[38;5;124m\"\u001b[39m\u001b[38;5;124mkeras.backend.categorical_crossentropy\u001b[39m\u001b[38;5;124m\"\u001b[39m)\n\u001b[1;32m   5526\u001b[0m \u001b[38;5;129m@tf\u001b[39m\u001b[38;5;241m.\u001b[39m__internal__\u001b[38;5;241m.\u001b[39mdispatch\u001b[38;5;241m.\u001b[39madd_dispatch_support\n\u001b[1;32m   5527\u001b[0m \u001b[38;5;129m@doc_controls\u001b[39m\u001b[38;5;241m.\u001b[39mdo_not_generate_docs\n\u001b[1;32m   5528\u001b[0m \u001b[38;5;28;01mdef\u001b[39;00m \u001b[38;5;21mcategorical_crossentropy\u001b[39m(target, output, from_logits\u001b[38;5;241m=\u001b[39m\u001b[38;5;28;01mFalse\u001b[39;00m, axis\u001b[38;5;241m=\u001b[39m\u001b[38;5;241m-\u001b[39m\u001b[38;5;241m1\u001b[39m):\n\u001b[1;32m   5529\u001b[0m     \u001b[38;5;124;03m\"\"\"Categorical crossentropy between an output tensor and a target tensor.\u001b[39;00m\n\u001b[1;32m   5530\u001b[0m \n\u001b[1;32m   5531\u001b[0m \u001b[38;5;124;03m    Args:\u001b[39;00m\n\u001b[0;32m   (...)\u001b[0m\n\u001b[1;32m   5569\u001b[0m \n\u001b[1;32m   5570\u001b[0m \u001b[38;5;124;03m    \"\"\"\u001b[39;00m\n\u001b[0;32m-> 5571\u001b[0m     target \u001b[38;5;241m=\u001b[39m \u001b[43mtf\u001b[49m\u001b[38;5;241;43m.\u001b[39;49m\u001b[43mconvert_to_tensor\u001b[49m\u001b[43m(\u001b[49m\u001b[43mtarget\u001b[49m\u001b[43m)\u001b[49m\n\u001b[1;32m   5572\u001b[0m     output \u001b[38;5;241m=\u001b[39m tf\u001b[38;5;241m.\u001b[39mconvert_to_tensor(output)\n\u001b[1;32m   5573\u001b[0m     target\u001b[38;5;241m.\u001b[39mshape\u001b[38;5;241m.\u001b[39massert_is_compatible_with(output\u001b[38;5;241m.\u001b[39mshape)\n",
      "\u001b[0;31mValueError\u001b[0m: Attempt to convert a value (SparseTensor(indices=tf.Tensor(\n[[0 1]\n [1 2]\n [2 1]\n [3 1]\n [4 2]\n [5 2]\n [6 2]\n [7 0]\n [8 0]\n [9 0]], shape=(10, 2), dtype=int64), values=tf.Tensor([1. 1. 1. 1. 1. 1. 1. 1. 1. 1.], shape=(10,), dtype=float64), dense_shape=tf.Tensor([10  3], shape=(2,), dtype=int64))) with an unsupported type (<class 'tensorflow.python.framework.sparse_tensor.SparseTensor'>) to a Tensor."
     ]
    }
   ],
   "source": [
    "opt = tf.keras.optimizers.Adam(learning_rate = 0.001)\n",
    "model.compile(opt, loss=tf.keras.losses.CategoricalCrossentropy())\n",
    "\n",
    "#y_test = tf.cast(y_tr[1:], tf.int32)\n",
    "#y_valid = tf.cast(y_val[1:], tf.int32)\n",
    "\n",
    "history = model.fit(x_tr, y_tr, epochs = 50, shuffle = True,\n",
    "    validation_data = (x_val, y_val),\n",
    "    batch_size = 10,\n",
    "    callbacks = [earlystop])"
   ]
  },
  {
   "cell_type": "code",
   "execution_count": null,
   "id": "4b06a871",
   "metadata": {},
   "outputs": [],
   "source": [
    "plot_losses(history)"
   ]
  },
  {
   "cell_type": "code",
   "execution_count": null,
   "id": "731bfaf4",
   "metadata": {},
   "outputs": [],
   "source": [
    "tr_acc = accuracy_score(\n",
    "    model.predict(x_tr).argmax(axis = 1),\n",
    "    y_tr.argmax(axis = 1))\n",
    "val_acc = accuracy_score(\n",
    "    model.predict(x_val).argmax(axis = 1),\n",
    "    y_val.argmax(axis = 1))\n",
    "test_acc = accuracy_score(\n",
    "    model.predict(x_test).argmax(axis = 1),\n",
    "    y_test.argmax(axis = 1))\n",
    "print(\"Train accuracy:\", tr_acc)\n",
    "print(\"Validation accuracy:\", val_acc)\n",
    "print(\"Test accuracy:\", test_acc)"
   ]
  },
  {
   "cell_type": "code",
   "execution_count": 46,
   "id": "31b1cbb3-d12e-41e5-a7ea-1dcc58362e95",
   "metadata": {},
   "outputs": [
    {
     "name": "stdout",
     "output_type": "stream",
     "text": [
      "Collecting tensorflow==2.15\n",
      "  Obtaining dependency information for tensorflow==2.15 from https://files.pythonhosted.org/packages/b8/95/0fb1c154bb02f7f7b44138219926519ac19339493b32ff6eefa9bbc83769/tensorflow-2.15.0-cp39-cp39-macosx_12_0_arm64.whl.metadata\n",
      "  Downloading tensorflow-2.15.0-cp39-cp39-macosx_12_0_arm64.whl.metadata (3.6 kB)\n",
      "Collecting tensorflow-macos==2.15.0 (from tensorflow==2.15)\n",
      "  Obtaining dependency information for tensorflow-macos==2.15.0 from https://files.pythonhosted.org/packages/3e/ca/4d8aede401f69ebe6dfdb8ef0681bb30ae6051b6441cb25a047e334f9a86/tensorflow_macos-2.15.0-cp39-cp39-macosx_12_0_arm64.whl.metadata\n",
      "  Downloading tensorflow_macos-2.15.0-cp39-cp39-macosx_12_0_arm64.whl.metadata (4.2 kB)\n",
      "Requirement already satisfied: absl-py>=1.0.0 in /Users/christophe_pere/PinQ2_py/lib/python3.9/site-packages (from tensorflow-macos==2.15.0->tensorflow==2.15) (1.4.0)\n",
      "Requirement already satisfied: astunparse>=1.6.0 in /Users/christophe_pere/PinQ2_py/lib/python3.9/site-packages (from tensorflow-macos==2.15.0->tensorflow==2.15) (1.6.3)\n",
      "Requirement already satisfied: flatbuffers>=23.5.26 in /Users/christophe_pere/PinQ2_py/lib/python3.9/site-packages (from tensorflow-macos==2.15.0->tensorflow==2.15) (23.5.26)\n",
      "Requirement already satisfied: gast!=0.5.0,!=0.5.1,!=0.5.2,>=0.2.1 in /Users/christophe_pere/PinQ2_py/lib/python3.9/site-packages (from tensorflow-macos==2.15.0->tensorflow==2.15) (0.5.4)\n",
      "Requirement already satisfied: google-pasta>=0.1.1 in /Users/christophe_pere/PinQ2_py/lib/python3.9/site-packages (from tensorflow-macos==2.15.0->tensorflow==2.15) (0.2.0)\n",
      "Requirement already satisfied: h5py>=2.9.0 in /Users/christophe_pere/PinQ2_py/lib/python3.9/site-packages (from tensorflow-macos==2.15.0->tensorflow==2.15) (3.7.0)\n",
      "Requirement already satisfied: libclang>=13.0.0 in /Users/christophe_pere/PinQ2_py/lib/python3.9/site-packages (from tensorflow-macos==2.15.0->tensorflow==2.15) (16.0.6)\n",
      "Requirement already satisfied: ml-dtypes~=0.2.0 in /Users/christophe_pere/PinQ2_py/lib/python3.9/site-packages (from tensorflow-macos==2.15.0->tensorflow==2.15) (0.2.0)\n",
      "Requirement already satisfied: numpy<2.0.0,>=1.23.5 in /Users/christophe_pere/PinQ2_py/lib/python3.9/site-packages (from tensorflow-macos==2.15.0->tensorflow==2.15) (1.23.5)\n",
      "Requirement already satisfied: opt-einsum>=2.3.2 in /Users/christophe_pere/PinQ2_py/lib/python3.9/site-packages (from tensorflow-macos==2.15.0->tensorflow==2.15) (3.3.0)\n",
      "Requirement already satisfied: packaging in /Users/christophe_pere/PinQ2_py/lib/python3.9/site-packages (from tensorflow-macos==2.15.0->tensorflow==2.15) (22.0)\n",
      "Requirement already satisfied: protobuf!=4.21.0,!=4.21.1,!=4.21.2,!=4.21.3,!=4.21.4,!=4.21.5,<5.0.0dev,>=3.20.3 in /Users/christophe_pere/PinQ2_py/lib/python3.9/site-packages (from tensorflow-macos==2.15.0->tensorflow==2.15) (3.20.3)\n",
      "Requirement already satisfied: setuptools in /Users/christophe_pere/PinQ2_py/lib/python3.9/site-packages (from tensorflow-macos==2.15.0->tensorflow==2.15) (67.8.0)\n",
      "Requirement already satisfied: six>=1.12.0 in /Users/christophe_pere/PinQ2_py/lib/python3.9/site-packages (from tensorflow-macos==2.15.0->tensorflow==2.15) (1.16.0)\n",
      "Requirement already satisfied: termcolor>=1.1.0 in /Users/christophe_pere/PinQ2_py/lib/python3.9/site-packages (from tensorflow-macos==2.15.0->tensorflow==2.15) (2.3.0)\n",
      "Requirement already satisfied: typing-extensions>=3.6.6 in /Users/christophe_pere/PinQ2_py/lib/python3.9/site-packages (from tensorflow-macos==2.15.0->tensorflow==2.15) (4.4.0)\n",
      "Requirement already satisfied: wrapt<1.15,>=1.11.0 in /Users/christophe_pere/PinQ2_py/lib/python3.9/site-packages (from tensorflow-macos==2.15.0->tensorflow==2.15) (1.14.1)\n",
      "Requirement already satisfied: tensorflow-io-gcs-filesystem>=0.23.1 in /Users/christophe_pere/PinQ2_py/lib/python3.9/site-packages (from tensorflow-macos==2.15.0->tensorflow==2.15) (0.34.0)\n",
      "Requirement already satisfied: grpcio<2.0,>=1.24.3 in /Users/christophe_pere/PinQ2_py/lib/python3.9/site-packages (from tensorflow-macos==2.15.0->tensorflow==2.15) (1.59.0)\n",
      "Collecting tensorboard<2.16,>=2.15 (from tensorflow-macos==2.15.0->tensorflow==2.15)\n",
      "  Obtaining dependency information for tensorboard<2.16,>=2.15 from https://files.pythonhosted.org/packages/37/12/f6e9b9dcc310263cbd3948274e286538bd6800fd0c268850788f14a0c6d0/tensorboard-2.15.2-py3-none-any.whl.metadata\n",
      "  Downloading tensorboard-2.15.2-py3-none-any.whl.metadata (1.7 kB)\n",
      "Collecting tensorflow-estimator<2.16,>=2.15.0 (from tensorflow-macos==2.15.0->tensorflow==2.15)\n",
      "  Obtaining dependency information for tensorflow-estimator<2.16,>=2.15.0 from https://files.pythonhosted.org/packages/b6/c8/2f823c8958d5342eafc6dd3e922f0cc4fcf8c2e0460284cc462dae3b60a0/tensorflow_estimator-2.15.0-py2.py3-none-any.whl.metadata\n",
      "  Downloading tensorflow_estimator-2.15.0-py2.py3-none-any.whl.metadata (1.3 kB)\n",
      "Collecting keras<2.16,>=2.15.0 (from tensorflow-macos==2.15.0->tensorflow==2.15)\n",
      "  Obtaining dependency information for keras<2.16,>=2.15.0 from https://files.pythonhosted.org/packages/fc/a7/0d4490de967a67f68a538cc9cdb259bff971c4b5787f7765dc7c8f118f71/keras-2.15.0-py3-none-any.whl.metadata\n",
      "  Downloading keras-2.15.0-py3-none-any.whl.metadata (2.4 kB)\n",
      "Requirement already satisfied: wheel<1.0,>=0.23.0 in /Users/christophe_pere/PinQ2_py/lib/python3.9/site-packages (from astunparse>=1.6.0->tensorflow-macos==2.15.0->tensorflow==2.15) (0.38.4)\n",
      "Requirement already satisfied: google-auth<3,>=1.6.3 in /Users/christophe_pere/PinQ2_py/lib/python3.9/site-packages (from tensorboard<2.16,>=2.15->tensorflow-macos==2.15.0->tensorflow==2.15) (2.23.2)\n",
      "Requirement already satisfied: google-auth-oauthlib<2,>=0.5 in /Users/christophe_pere/PinQ2_py/lib/python3.9/site-packages (from tensorboard<2.16,>=2.15->tensorflow-macos==2.15.0->tensorflow==2.15) (1.0.0)\n",
      "Requirement already satisfied: markdown>=2.6.8 in /Users/christophe_pere/PinQ2_py/lib/python3.9/site-packages (from tensorboard<2.16,>=2.15->tensorflow-macos==2.15.0->tensorflow==2.15) (3.4.3)\n",
      "Requirement already satisfied: requests<3,>=2.21.0 in /Users/christophe_pere/PinQ2_py/lib/python3.9/site-packages (from tensorboard<2.16,>=2.15->tensorflow-macos==2.15.0->tensorflow==2.15) (2.28.1)\n",
      "Requirement already satisfied: tensorboard-data-server<0.8.0,>=0.7.0 in /Users/christophe_pere/PinQ2_py/lib/python3.9/site-packages (from tensorboard<2.16,>=2.15->tensorflow-macos==2.15.0->tensorflow==2.15) (0.7.1)\n",
      "Requirement already satisfied: werkzeug>=1.0.1 in /Users/christophe_pere/PinQ2_py/lib/python3.9/site-packages (from tensorboard<2.16,>=2.15->tensorflow-macos==2.15.0->tensorflow==2.15) (2.2.3)\n",
      "Requirement already satisfied: cachetools<6.0,>=2.0.0 in /Users/christophe_pere/PinQ2_py/lib/python3.9/site-packages (from google-auth<3,>=1.6.3->tensorboard<2.16,>=2.15->tensorflow-macos==2.15.0->tensorflow==2.15) (5.3.0)\n",
      "Requirement already satisfied: pyasn1-modules>=0.2.1 in /Users/christophe_pere/PinQ2_py/lib/python3.9/site-packages (from google-auth<3,>=1.6.3->tensorboard<2.16,>=2.15->tensorflow-macos==2.15.0->tensorflow==2.15) (0.3.0)\n",
      "Requirement already satisfied: rsa<5,>=3.1.4 in /Users/christophe_pere/PinQ2_py/lib/python3.9/site-packages (from google-auth<3,>=1.6.3->tensorboard<2.16,>=2.15->tensorflow-macos==2.15.0->tensorflow==2.15) (4.9)\n",
      "Requirement already satisfied: requests-oauthlib>=0.7.0 in /Users/christophe_pere/PinQ2_py/lib/python3.9/site-packages (from google-auth-oauthlib<2,>=0.5->tensorboard<2.16,>=2.15->tensorflow-macos==2.15.0->tensorflow==2.15) (1.3.1)\n",
      "Requirement already satisfied: importlib-metadata>=4.4 in /Users/christophe_pere/PinQ2_py/lib/python3.9/site-packages (from markdown>=2.6.8->tensorboard<2.16,>=2.15->tensorflow-macos==2.15.0->tensorflow==2.15) (6.0.1)\n",
      "Requirement already satisfied: charset-normalizer<3,>=2 in /Users/christophe_pere/PinQ2_py/lib/python3.9/site-packages (from requests<3,>=2.21.0->tensorboard<2.16,>=2.15->tensorflow-macos==2.15.0->tensorflow==2.15) (2.1.1)\n",
      "Requirement already satisfied: idna<4,>=2.5 in /Users/christophe_pere/PinQ2_py/lib/python3.9/site-packages (from requests<3,>=2.21.0->tensorboard<2.16,>=2.15->tensorflow-macos==2.15.0->tensorflow==2.15) (3.4)\n",
      "Requirement already satisfied: urllib3<1.27,>=1.21.1 in /Users/christophe_pere/PinQ2_py/lib/python3.9/site-packages (from requests<3,>=2.21.0->tensorboard<2.16,>=2.15->tensorflow-macos==2.15.0->tensorflow==2.15) (1.26.13)\n",
      "Requirement already satisfied: certifi>=2017.4.17 in /Users/christophe_pere/PinQ2_py/lib/python3.9/site-packages (from requests<3,>=2.21.0->tensorboard<2.16,>=2.15->tensorflow-macos==2.15.0->tensorflow==2.15) (2022.12.7)\n",
      "Requirement already satisfied: MarkupSafe>=2.1.1 in /Users/christophe_pere/PinQ2_py/lib/python3.9/site-packages (from werkzeug>=1.0.1->tensorboard<2.16,>=2.15->tensorflow-macos==2.15.0->tensorflow==2.15) (2.1.1)\n",
      "Requirement already satisfied: zipp>=0.5 in /Users/christophe_pere/PinQ2_py/lib/python3.9/site-packages (from importlib-metadata>=4.4->markdown>=2.6.8->tensorboard<2.16,>=2.15->tensorflow-macos==2.15.0->tensorflow==2.15) (3.11.0)\n",
      "Requirement already satisfied: pyasn1<0.6.0,>=0.4.6 in /Users/christophe_pere/PinQ2_py/lib/python3.9/site-packages (from pyasn1-modules>=0.2.1->google-auth<3,>=1.6.3->tensorboard<2.16,>=2.15->tensorflow-macos==2.15.0->tensorflow==2.15) (0.5.0)\n",
      "Requirement already satisfied: oauthlib>=3.0.0 in /Users/christophe_pere/PinQ2_py/lib/python3.9/site-packages (from requests-oauthlib>=0.7.0->google-auth-oauthlib<2,>=0.5->tensorboard<2.16,>=2.15->tensorflow-macos==2.15.0->tensorflow==2.15) (3.2.2)\n",
      "Downloading tensorflow-2.15.0-cp39-cp39-macosx_12_0_arm64.whl (2.1 kB)\n",
      "Downloading tensorflow_macos-2.15.0-cp39-cp39-macosx_12_0_arm64.whl (208.8 MB)\n",
      "\u001b[2K   \u001b[38;2;114;156;31m━━━━━━━━━━━━━━━━━━━━━━━━━━━━━━━━━━━━━━━━\u001b[0m \u001b[32m208.8/208.8 MB\u001b[0m \u001b[31m5.1 MB/s\u001b[0m eta \u001b[36m0:00:00\u001b[0mm eta \u001b[36m0:00:01\u001b[0m[36m0:00:01\u001b[0m\n",
      "\u001b[?25hDownloading keras-2.15.0-py3-none-any.whl (1.7 MB)\n",
      "\u001b[2K   \u001b[38;2;114;156;31m━━━━━━━━━━━━━━━━━━━━━━━━━━━━━━━━━━━━━━━━\u001b[0m \u001b[32m1.7/1.7 MB\u001b[0m \u001b[31m8.0 MB/s\u001b[0m eta \u001b[36m0:00:00\u001b[0mm eta \u001b[36m0:00:01\u001b[0m0:01\u001b[0m:01\u001b[0m\n",
      "\u001b[?25hDownloading tensorboard-2.15.2-py3-none-any.whl (5.5 MB)\n",
      "\u001b[2K   \u001b[38;2;114;156;31m━━━━━━━━━━━━━━━━━━━━━━━━━━━━━━━━━━━━━━━━\u001b[0m \u001b[32m5.5/5.5 MB\u001b[0m \u001b[31m8.3 MB/s\u001b[0m eta \u001b[36m0:00:00\u001b[0mm eta \u001b[36m0:00:01\u001b[0m0:01\u001b[0m:01\u001b[0mm\n",
      "\u001b[?25hDownloading tensorflow_estimator-2.15.0-py2.py3-none-any.whl (441 kB)\n",
      "\u001b[2K   \u001b[38;2;114;156;31m━━━━━━━━━━━━━━━━━━━━━━━━━━━━━━━━━━━━━━━━\u001b[0m \u001b[32m442.0/442.0 kB\u001b[0m \u001b[31m7.9 MB/s\u001b[0m eta \u001b[36m0:00:00\u001b[0m[31m10.1 MB/s\u001b[0m eta \u001b[36m0:00:01\u001b[0m\n",
      "\u001b[?25h\u001b[33mDEPRECATION: qiskit-nature 0.5.2 has a non-standard dependency specifier qiskit-terra>=0.22.*. pip 23.3 will enforce this behaviour change. A possible replacement is to upgrade to a newer version of qiskit-nature or contact the author to suggest that they release a version with a conforming dependency specifiers. Discussion can be found at https://github.com/pypa/pip/issues/12063\u001b[0m\u001b[33m\n",
      "\u001b[0mInstalling collected packages: tensorflow-estimator, keras, tensorboard, tensorflow-macos, tensorflow\n",
      "  Attempting uninstall: tensorflow-estimator\n",
      "    Found existing installation: tensorflow-estimator 2.14.0\n",
      "    Uninstalling tensorflow-estimator-2.14.0:\n",
      "      Successfully uninstalled tensorflow-estimator-2.14.0\n",
      "  Attempting uninstall: keras\n",
      "    Found existing installation: keras 2.14.0\n",
      "    Uninstalling keras-2.14.0:\n",
      "      Successfully uninstalled keras-2.14.0\n",
      "  Attempting uninstall: tensorboard\n",
      "    Found existing installation: tensorboard 2.14.1\n",
      "    Uninstalling tensorboard-2.14.1:\n",
      "      Successfully uninstalled tensorboard-2.14.1\n",
      "  Attempting uninstall: tensorflow-macos\n",
      "    Found existing installation: tensorflow-macos 2.14.0\n",
      "    Uninstalling tensorflow-macos-2.14.0:\n",
      "      Successfully uninstalled tensorflow-macos-2.14.0\n",
      "  Attempting uninstall: tensorflow\n",
      "    Found existing installation: tensorflow 2.14.0\n",
      "    Uninstalling tensorflow-2.14.0:\n",
      "      Successfully uninstalled tensorflow-2.14.0\n",
      "Successfully installed keras-2.15.0 tensorboard-2.15.2 tensorflow-2.15.0 tensorflow-estimator-2.15.0 tensorflow-macos-2.15.0\n",
      "\n",
      "\u001b[1m[\u001b[0m\u001b[34;49mnotice\u001b[0m\u001b[1;39;49m]\u001b[0m\u001b[39;49m A new release of pip is available: \u001b[0m\u001b[31;49m23.2.1\u001b[0m\u001b[39;49m -> \u001b[0m\u001b[32;49m24.0\u001b[0m\n",
      "\u001b[1m[\u001b[0m\u001b[34;49mnotice\u001b[0m\u001b[1;39;49m]\u001b[0m\u001b[39;49m To update, run: \u001b[0m\u001b[32;49mpip install --upgrade pip\u001b[0m\n"
     ]
    }
   ],
   "source": [
    "!pip install tensorflow==2.15"
   ]
  },
  {
   "cell_type": "code",
   "execution_count": null,
   "id": "f667a374-dee1-4369-9c8b-60cd9c9792a5",
   "metadata": {},
   "outputs": [],
   "source": []
  }
 ],
 "metadata": {
  "kernelspec": {
   "display_name": "Python 3 (ipykernel)",
   "language": "python",
   "name": "python3"
  },
  "language_info": {
   "codemirror_mode": {
    "name": "ipython",
    "version": 3
   },
   "file_extension": ".py",
   "mimetype": "text/x-python",
   "name": "python",
   "nbconvert_exporter": "python",
   "pygments_lexer": "ipython3",
   "version": "3.9.6"
  }
 },
 "nbformat": 4,
 "nbformat_minor": 5
}
